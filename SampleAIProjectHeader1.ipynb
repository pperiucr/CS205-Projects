{
 "cells": [
  {
   "cell_type": "markdown",
   "id": "179dd748-d635-4f52-b4c0-a4055ec9ecd9",
   "metadata": {},
   "source": [
    "# <font color='red'>CS205 AI Project 2 - Feature Selection with Nearest Neighbor</font>\n",
    "### <font color='red'>Student: Prakash Perimbeti</font>\n",
    "### <font color='red'>Student Id: 862545992</font>"
   ]
  },
  {
   "cell_type": "code",
   "execution_count": null,
   "id": "071b533f-d8f1-4b02-a725-5f26b79acf6c",
   "metadata": {},
   "outputs": [],
   "source": []
  }
 ],
 "metadata": {
  "kernelspec": {
   "display_name": "Python 3 (ipykernel)",
   "language": "python",
   "name": "python3"
  },
  "language_info": {
   "codemirror_mode": {
    "name": "ipython",
    "version": 3
   },
   "file_extension": ".py",
   "mimetype": "text/x-python",
   "name": "python",
   "nbconvert_exporter": "python",
   "pygments_lexer": "ipython3",
   "version": "3.10.9"
  }
 },
 "nbformat": 4,
 "nbformat_minor": 5
}
